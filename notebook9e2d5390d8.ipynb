{
 "cells": [
  {
   "cell_type": "code",
   "execution_count": 1,
   "id": "fa1c0702",
   "metadata": {
    "_cell_guid": "b1076dfc-b9ad-4769-8c92-a6c4dae69d19",
    "_uuid": "8f2839f25d086af736a60e9eeb907d3b93b6e0e5",
    "execution": {
     "iopub.execute_input": "2022-05-15T15:45:29.029016Z",
     "iopub.status.busy": "2022-05-15T15:45:29.028581Z",
     "iopub.status.idle": "2022-05-15T15:45:29.055130Z",
     "shell.execute_reply": "2022-05-15T15:45:29.054326Z"
    },
    "papermill": {
     "duration": 0.070957,
     "end_time": "2022-05-15T15:45:29.057738",
     "exception": false,
     "start_time": "2022-05-15T15:45:28.986781",
     "status": "completed"
    },
    "tags": []
   },
   "outputs": [
    {
     "name": "stdout",
     "output_type": "stream",
     "text": [
      "/kaggle/input/glove6b100dtxt/glove.6B.100d.txt\n",
      "/kaggle/input/olid2019/test_a_tweets_all.tsv\n",
      "/kaggle/input/olid2019/testset-levela.tsv\n",
      "/kaggle/input/olid2019/olid-training-v1.0.tsv\n",
      "/kaggle/input/olid2019/test_a_tweets.tsv\n",
      "/kaggle/input/olid2019/labels-levela.csv\n",
      "/kaggle/input/olid2019/test_a_labels_all.csv\n",
      "/kaggle/input/olid2019/test_a_labels.csv\n"
     ]
    }
   ],
   "source": [
    "# This Python 3 environment comes with many helpful analytics libraries installed\n",
    "# It is defined by the kaggle/python Docker image: https://github.com/kaggle/docker-python\n",
    "# For example, here's several helpful packages to load\n",
    "\n",
    "import numpy as np # linear algebra\n",
    "import pandas as pd # data processing, CSV file I/O (e.g. pd.read_csv)\n",
    "\n",
    "# Input data files are available in the read-only \"../input/\" directory\n",
    "# For example, running this (by clicking run or pressing Shift+Enter) will list all files under the input directory\n",
    "\n",
    "import os\n",
    "for dirname, _, filenames in os.walk('/kaggle/input'):\n",
    "    for filename in filenames:\n",
    "        print(os.path.join(dirname, filename))\n",
    "\n",
    "# You can write up to 20GB to the current directory (/kaggle/working/) that gets preserved as output when you create a version using \"Save & Run All\" \n",
    "# You can also write temporary files to /kaggle/temp/, but they won't be saved outside of the current session"
   ]
  },
  {
   "cell_type": "markdown",
   "id": "240d2de1",
   "metadata": {
    "papermill": {
     "duration": 0.039343,
     "end_time": "2022-05-15T15:45:29.138687",
     "exception": false,
     "start_time": "2022-05-15T15:45:29.099344",
     "status": "completed"
    },
    "tags": []
   },
   "source": [
    "# load and merge dataset"
   ]
  },
  {
   "cell_type": "code",
   "execution_count": 2,
   "id": "8cb1cb77",
   "metadata": {
    "execution": {
     "iopub.execute_input": "2022-05-15T15:45:29.216859Z",
     "iopub.status.busy": "2022-05-15T15:45:29.216189Z",
     "iopub.status.idle": "2022-05-15T15:45:29.279409Z",
     "shell.execute_reply": "2022-05-15T15:45:29.278520Z"
    },
    "papermill": {
     "duration": 0.104909,
     "end_time": "2022-05-15T15:45:29.282052",
     "exception": false,
     "start_time": "2022-05-15T15:45:29.177143",
     "status": "completed"
    },
    "tags": []
   },
   "outputs": [
    {
     "data": {
      "text/html": [
       "<div>\n",
       "<style scoped>\n",
       "    .dataframe tbody tr th:only-of-type {\n",
       "        vertical-align: middle;\n",
       "    }\n",
       "\n",
       "    .dataframe tbody tr th {\n",
       "        vertical-align: top;\n",
       "    }\n",
       "\n",
       "    .dataframe thead th {\n",
       "        text-align: right;\n",
       "    }\n",
       "</style>\n",
       "<table border=\"1\" class=\"dataframe\">\n",
       "  <thead>\n",
       "    <tr style=\"text-align: right;\">\n",
       "      <th></th>\n",
       "      <th>status</th>\n",
       "      <th>tweet</th>\n",
       "    </tr>\n",
       "  </thead>\n",
       "  <tbody>\n",
       "    <tr>\n",
       "      <th>0</th>\n",
       "      <td>OFF</td>\n",
       "      <td>¿Who the fuck is Yoru?</td>\n",
       "    </tr>\n",
       "    <tr>\n",
       "      <th>1</th>\n",
       "      <td>NOT</td>\n",
       "      <td>@USER @USER He's an evil law breaker that shou...</td>\n",
       "    </tr>\n",
       "    <tr>\n",
       "      <th>2</th>\n",
       "      <td>NOT</td>\n",
       "      <td>Now hiring for 49 #Labor job opportunities in ...</td>\n",
       "    </tr>\n",
       "    <tr>\n",
       "      <th>3</th>\n",
       "      <td>NOT</td>\n",
       "      <td>#NerkondaPaarvai' - As Of Now, There Is NO Ear...</td>\n",
       "    </tr>\n",
       "    <tr>\n",
       "      <th>4</th>\n",
       "      <td>NOT</td>\n",
       "      <td>@USER Hahahaha I wish...but a week is good, I’...</td>\n",
       "    </tr>\n",
       "  </tbody>\n",
       "</table>\n",
       "</div>"
      ],
      "text/plain": [
       "  status                                              tweet\n",
       "0    OFF                             ¿Who the fuck is Yoru?\n",
       "1    NOT  @USER @USER He's an evil law breaker that shou...\n",
       "2    NOT  Now hiring for 49 #Labor job opportunities in ...\n",
       "3    NOT  #NerkondaPaarvai' - As Of Now, There Is NO Ear...\n",
       "4    NOT  @USER Hahahaha I wish...but a week is good, I’..."
      ]
     },
     "execution_count": 2,
     "metadata": {},
     "output_type": "execute_result"
    }
   ],
   "source": [
    "import csv\n",
    "labelData =  pd.read_csv('../input/olid2019/test_a_labels.csv')\n",
    "labelData.columns = ['id','status']\n",
    "tweetData = pd.read_table('../input/olid2019/test_a_tweets.tsv')\n",
    "newData = pd.concat([labelData, tweetData],axis = 1)\n",
    "newData = newData.drop(['id','id'], axis = 1)\n",
    "newData.head()"
   ]
  },
  {
   "cell_type": "markdown",
   "id": "90a1e5ac",
   "metadata": {
    "papermill": {
     "duration": 0.039172,
     "end_time": "2022-05-15T15:45:29.362141",
     "exception": false,
     "start_time": "2022-05-15T15:45:29.322969",
     "status": "completed"
    },
    "tags": []
   },
   "source": [
    "# Lowercase"
   ]
  },
  {
   "cell_type": "code",
   "execution_count": 3,
   "id": "d1e46da4",
   "metadata": {
    "execution": {
     "iopub.execute_input": "2022-05-15T15:45:29.441586Z",
     "iopub.status.busy": "2022-05-15T15:45:29.440866Z",
     "iopub.status.idle": "2022-05-15T15:45:29.450202Z",
     "shell.execute_reply": "2022-05-15T15:45:29.449519Z"
    },
    "papermill": {
     "duration": 0.051166,
     "end_time": "2022-05-15T15:45:29.451854",
     "exception": false,
     "start_time": "2022-05-15T15:45:29.400688",
     "status": "completed"
    },
    "tags": []
   },
   "outputs": [],
   "source": [
    "newData['tweet'] = newData['tweet'].str.lower()\n"
   ]
  },
  {
   "cell_type": "markdown",
   "id": "447d2280",
   "metadata": {
    "papermill": {
     "duration": 0.037802,
     "end_time": "2022-05-15T15:45:29.528131",
     "exception": false,
     "start_time": "2022-05-15T15:45:29.490329",
     "status": "completed"
    },
    "tags": []
   },
   "source": [
    "# Data Preprocessing "
   ]
  },
  {
   "cell_type": "markdown",
   "id": "d600280e",
   "metadata": {
    "papermill": {
     "duration": 0.037617,
     "end_time": "2022-05-15T15:45:29.603964",
     "exception": false,
     "start_time": "2022-05-15T15:45:29.566347",
     "status": "completed"
    },
    "tags": []
   },
   "source": [
    "cleaning, tokenization, stop word removal, lemmatization"
   ]
  },
  {
   "cell_type": "code",
   "execution_count": 4,
   "id": "a6cfd79f",
   "metadata": {
    "execution": {
     "iopub.execute_input": "2022-05-15T15:45:29.682223Z",
     "iopub.status.busy": "2022-05-15T15:45:29.681987Z",
     "iopub.status.idle": "2022-05-15T15:45:34.104372Z",
     "shell.execute_reply": "2022-05-15T15:45:34.103573Z"
    },
    "papermill": {
     "duration": 4.463674,
     "end_time": "2022-05-15T15:45:34.106482",
     "exception": false,
     "start_time": "2022-05-15T15:45:29.642808",
     "status": "completed"
    },
    "tags": []
   },
   "outputs": [
    {
     "name": "stderr",
     "output_type": "stream",
     "text": [
      "/opt/conda/lib/python3.7/site-packages/ipykernel_launcher.py:8: FutureWarning: The default value of regex will change from True to False in a future version.\n",
      "  \n"
     ]
    },
    {
     "data": {
      "text/html": [
       "<div>\n",
       "<style scoped>\n",
       "    .dataframe tbody tr th:only-of-type {\n",
       "        vertical-align: middle;\n",
       "    }\n",
       "\n",
       "    .dataframe tbody tr th {\n",
       "        vertical-align: top;\n",
       "    }\n",
       "\n",
       "    .dataframe thead th {\n",
       "        text-align: right;\n",
       "    }\n",
       "</style>\n",
       "<table border=\"1\" class=\"dataframe\">\n",
       "  <thead>\n",
       "    <tr style=\"text-align: right;\">\n",
       "      <th></th>\n",
       "      <th>status</th>\n",
       "      <th>tweet</th>\n",
       "    </tr>\n",
       "  </thead>\n",
       "  <tbody>\n",
       "    <tr>\n",
       "      <th>0</th>\n",
       "      <td>OFF</td>\n",
       "      <td>fuck yoru</td>\n",
       "    </tr>\n",
       "    <tr>\n",
       "      <th>1</th>\n",
       "      <td>NOT</td>\n",
       "      <td>user user he evil law breaker prison criminal ...</td>\n",
       "    </tr>\n",
       "    <tr>\n",
       "      <th>2</th>\n",
       "      <td>NOT</td>\n",
       "      <td>hiring 49 labor job opportunity minnesota clic...</td>\n",
       "    </tr>\n",
       "    <tr>\n",
       "      <th>3</th>\n",
       "      <td>NOT</td>\n",
       "      <td>nerkondapaarvai early morning show coimbatore ...</td>\n",
       "    </tr>\n",
       "    <tr>\n",
       "      <th>4</th>\n",
       "      <td>NOT</td>\n",
       "      <td>user hahahaha wishbut week good im extremely h...</td>\n",
       "    </tr>\n",
       "  </tbody>\n",
       "</table>\n",
       "</div>"
      ],
      "text/plain": [
       "  status                                              tweet\n",
       "0    OFF                                          fuck yoru\n",
       "1    NOT  user user he evil law breaker prison criminal ...\n",
       "2    NOT  hiring 49 labor job opportunity minnesota clic...\n",
       "3    NOT  nerkondapaarvai early morning show coimbatore ...\n",
       "4    NOT  user hahahaha wishbut week good im extremely h..."
      ]
     },
     "execution_count": 4,
     "metadata": {},
     "output_type": "execute_result"
    }
   ],
   "source": [
    "import nltk\n",
    "from nltk.tokenize import word_tokenize \n",
    "from nltk.corpus import stopwords\n",
    "stop = stopwords.words('english')\n",
    "lemmatizer = nltk.stem.WordNetLemmatizer()\n",
    "\n",
    "#remove punctuation\n",
    "newData['tweet'] = newData['tweet'].str.replace(r'[^\\w\\s]+', '')\n",
    "#word tokenization\n",
    "newData['tweet'] = newData.apply(lambda row: nltk.word_tokenize(row['tweet']), axis=1)\n",
    "#remove stopwords\n",
    "newData['tweet'] = newData['tweet'].apply(lambda x: [item for item in x if item not in stop])\n",
    "#lemmatization\n",
    "newData['tweet'] = newData['tweet'].apply(lambda x: [lemmatizer.lemmatize(item) for item in x])\n",
    "#join sentence\n",
    "newData['tweet'] = newData['tweet'].apply(lambda x: (\" \").join(x))\n",
    "\n",
    "\n",
    "\n",
    "newData.head()"
   ]
  },
  {
   "cell_type": "markdown",
   "id": "f6a6b24e",
   "metadata": {
    "papermill": {
     "duration": 0.039492,
     "end_time": "2022-05-15T15:45:34.186082",
     "exception": false,
     "start_time": "2022-05-15T15:45:34.146590",
     "status": "completed"
    },
    "tags": []
   },
   "source": []
  },
  {
   "cell_type": "markdown",
   "id": "2d9c0d6a",
   "metadata": {
    "papermill": {
     "duration": 0.040081,
     "end_time": "2022-05-15T15:45:34.265351",
     "exception": false,
     "start_time": "2022-05-15T15:45:34.225270",
     "status": "completed"
    },
    "tags": []
   },
   "source": [
    "# Level Encoding"
   ]
  },
  {
   "cell_type": "code",
   "execution_count": 5,
   "id": "286eb7e5",
   "metadata": {
    "execution": {
     "iopub.execute_input": "2022-05-15T15:45:34.358326Z",
     "iopub.status.busy": "2022-05-15T15:45:34.357611Z",
     "iopub.status.idle": "2022-05-15T15:45:34.367515Z",
     "shell.execute_reply": "2022-05-15T15:45:34.366792Z"
    },
    "papermill": {
     "duration": 0.061349,
     "end_time": "2022-05-15T15:45:34.369652",
     "exception": false,
     "start_time": "2022-05-15T15:45:34.308303",
     "status": "completed"
    },
    "tags": []
   },
   "outputs": [
    {
     "data": {
      "text/plain": [
       "0       1\n",
       "1       0\n",
       "2       0\n",
       "3       0\n",
       "4       0\n",
       "       ..\n",
       "3882    0\n",
       "3883    0\n",
       "3884    1\n",
       "3885    1\n",
       "3886    2\n",
       "Name: status, Length: 3887, dtype: int64"
      ]
     },
     "execution_count": 5,
     "metadata": {},
     "output_type": "execute_result"
    }
   ],
   "source": [
    "from sklearn import preprocessing\n",
    "label_encoder = preprocessing.LabelEncoder()\n",
    "newData['status']= label_encoder.fit_transform(newData['status'])\n",
    " \n",
    "newData['status']\n"
   ]
  },
  {
   "cell_type": "code",
   "execution_count": 6,
   "id": "35877638",
   "metadata": {
    "execution": {
     "iopub.execute_input": "2022-05-15T15:45:34.452469Z",
     "iopub.status.busy": "2022-05-15T15:45:34.452221Z",
     "iopub.status.idle": "2022-05-15T15:45:34.463328Z",
     "shell.execute_reply": "2022-05-15T15:45:34.462683Z"
    },
    "papermill": {
     "duration": 0.053762,
     "end_time": "2022-05-15T15:45:34.465287",
     "exception": false,
     "start_time": "2022-05-15T15:45:34.411525",
     "status": "completed"
    },
    "tags": []
   },
   "outputs": [
    {
     "data": {
      "text/html": [
       "<div>\n",
       "<style scoped>\n",
       "    .dataframe tbody tr th:only-of-type {\n",
       "        vertical-align: middle;\n",
       "    }\n",
       "\n",
       "    .dataframe tbody tr th {\n",
       "        vertical-align: top;\n",
       "    }\n",
       "\n",
       "    .dataframe thead th {\n",
       "        text-align: right;\n",
       "    }\n",
       "</style>\n",
       "<table border=\"1\" class=\"dataframe\">\n",
       "  <thead>\n",
       "    <tr style=\"text-align: right;\">\n",
       "      <th></th>\n",
       "      <th>tweet</th>\n",
       "    </tr>\n",
       "  </thead>\n",
       "  <tbody>\n",
       "    <tr>\n",
       "      <th>0</th>\n",
       "      <td>fuck yoru</td>\n",
       "    </tr>\n",
       "    <tr>\n",
       "      <th>1</th>\n",
       "      <td>user user he evil law breaker prison criminal ...</td>\n",
       "    </tr>\n",
       "    <tr>\n",
       "      <th>2</th>\n",
       "      <td>hiring 49 labor job opportunity minnesota clic...</td>\n",
       "    </tr>\n",
       "    <tr>\n",
       "      <th>3</th>\n",
       "      <td>nerkondapaarvai early morning show coimbatore ...</td>\n",
       "    </tr>\n",
       "    <tr>\n",
       "      <th>4</th>\n",
       "      <td>user hahahaha wishbut week good im extremely h...</td>\n",
       "    </tr>\n",
       "    <tr>\n",
       "      <th>...</th>\n",
       "      <td>...</td>\n",
       "    </tr>\n",
       "    <tr>\n",
       "      <th>3882</th>\n",
       "      <td>rt stan exot9 follow everyone rts make sure fo...</td>\n",
       "    </tr>\n",
       "    <tr>\n",
       "      <th>3883</th>\n",
       "      <td>think maybe designed alone</td>\n",
       "    </tr>\n",
       "    <tr>\n",
       "      <th>3884</th>\n",
       "      <td>user user user user user q csia would function...</td>\n",
       "    </tr>\n",
       "    <tr>\n",
       "      <th>3885</th>\n",
       "      <td>user parent jail childabuse jesus christ poor ...</td>\n",
       "    </tr>\n",
       "    <tr>\n",
       "      <th>3886</th>\n",
       "      <td>user user user user user trump trash criminal ...</td>\n",
       "    </tr>\n",
       "  </tbody>\n",
       "</table>\n",
       "<p>3887 rows × 1 columns</p>\n",
       "</div>"
      ],
      "text/plain": [
       "                                                  tweet\n",
       "0                                             fuck yoru\n",
       "1     user user he evil law breaker prison criminal ...\n",
       "2     hiring 49 labor job opportunity minnesota clic...\n",
       "3     nerkondapaarvai early morning show coimbatore ...\n",
       "4     user hahahaha wishbut week good im extremely h...\n",
       "...                                                 ...\n",
       "3882  rt stan exot9 follow everyone rts make sure fo...\n",
       "3883                         think maybe designed alone\n",
       "3884  user user user user user q csia would function...\n",
       "3885  user parent jail childabuse jesus christ poor ...\n",
       "3886  user user user user user trump trash criminal ...\n",
       "\n",
       "[3887 rows x 1 columns]"
      ]
     },
     "execution_count": 6,
     "metadata": {},
     "output_type": "execute_result"
    }
   ],
   "source": [
    "X = newData[['tweet']]\n",
    "y = newData[['status']]\n",
    "X"
   ]
  },
  {
   "cell_type": "markdown",
   "id": "4689d213",
   "metadata": {
    "papermill": {
     "duration": 0.039602,
     "end_time": "2022-05-15T15:45:34.544639",
     "exception": false,
     "start_time": "2022-05-15T15:45:34.505037",
     "status": "completed"
    },
    "tags": []
   },
   "source": [
    "# Type Conversion"
   ]
  },
  {
   "cell_type": "code",
   "execution_count": 7,
   "id": "24525513",
   "metadata": {
    "execution": {
     "iopub.execute_input": "2022-05-15T15:45:34.625834Z",
     "iopub.status.busy": "2022-05-15T15:45:34.625114Z",
     "iopub.status.idle": "2022-05-15T15:45:34.629249Z",
     "shell.execute_reply": "2022-05-15T15:45:34.628554Z"
    },
    "papermill": {
     "duration": 0.046798,
     "end_time": "2022-05-15T15:45:34.630930",
     "exception": false,
     "start_time": "2022-05-15T15:45:34.584132",
     "status": "completed"
    },
    "tags": []
   },
   "outputs": [],
   "source": [
    "y = y.astype(np.int16)"
   ]
  },
  {
   "cell_type": "markdown",
   "id": "c2d0eec4",
   "metadata": {
    "papermill": {
     "duration": 0.03978,
     "end_time": "2022-05-15T15:45:34.711315",
     "exception": false,
     "start_time": "2022-05-15T15:45:34.671535",
     "status": "completed"
    },
    "tags": []
   },
   "source": [
    "# Test Train Split"
   ]
  },
  {
   "cell_type": "markdown",
   "id": "713e3c87",
   "metadata": {
    "papermill": {
     "duration": 0.041938,
     "end_time": "2022-05-15T15:45:34.792981",
     "exception": false,
     "start_time": "2022-05-15T15:45:34.751043",
     "status": "completed"
    },
    "tags": []
   },
   "source": []
  },
  {
   "cell_type": "code",
   "execution_count": 8,
   "id": "7b8c1021",
   "metadata": {
    "execution": {
     "iopub.execute_input": "2022-05-15T15:45:34.874957Z",
     "iopub.status.busy": "2022-05-15T15:45:34.874155Z",
     "iopub.status.idle": "2022-05-15T15:45:34.881217Z",
     "shell.execute_reply": "2022-05-15T15:45:34.880473Z"
    },
    "papermill": {
     "duration": 0.050052,
     "end_time": "2022-05-15T15:45:34.883000",
     "exception": false,
     "start_time": "2022-05-15T15:45:34.832948",
     "status": "completed"
    },
    "tags": []
   },
   "outputs": [],
   "source": [
    "from sklearn.model_selection import train_test_split\n",
    "\n",
    "X_train, X_test, y_train, y_test = train_test_split(X, y, test_size=0.2, random_state=1)"
   ]
  },
  {
   "cell_type": "code",
   "execution_count": 9,
   "id": "f7037d19",
   "metadata": {
    "execution": {
     "iopub.execute_input": "2022-05-15T15:45:34.965899Z",
     "iopub.status.busy": "2022-05-15T15:45:34.965318Z",
     "iopub.status.idle": "2022-05-15T15:45:34.968914Z",
     "shell.execute_reply": "2022-05-15T15:45:34.968257Z"
    },
    "papermill": {
     "duration": 0.046634,
     "end_time": "2022-05-15T15:45:34.970517",
     "exception": false,
     "start_time": "2022-05-15T15:45:34.923883",
     "status": "completed"
    },
    "tags": []
   },
   "outputs": [],
   "source": [
    "from sklearn.feature_extraction.text import TfidfVectorizer\n",
    "from sklearn.feature_extraction.text import CountVectorizer"
   ]
  },
  {
   "cell_type": "code",
   "execution_count": 10,
   "id": "e28ded0b",
   "metadata": {
    "execution": {
     "iopub.execute_input": "2022-05-15T15:45:35.056492Z",
     "iopub.status.busy": "2022-05-15T15:45:35.055881Z",
     "iopub.status.idle": "2022-05-15T15:45:35.127821Z",
     "shell.execute_reply": "2022-05-15T15:45:35.127059Z"
    },
    "papermill": {
     "duration": 0.116544,
     "end_time": "2022-05-15T15:45:35.129775",
     "exception": false,
     "start_time": "2022-05-15T15:45:35.013231",
     "status": "completed"
    },
    "tags": []
   },
   "outputs": [],
   "source": [
    "#tf idf\n",
    "tf_idf = TfidfVectorizer()\n",
    "#applying tf idf to training data\n",
    "X_train_tf = tf_idf.fit_transform(X_train.loc[:, 'tweet'].values).astype(np.int16)\n",
    "#applying tf idf to training data\n",
    "X_test_tf = tf_idf.transform(X_test.loc[:, 'tweet'].values).astype(np.int16)"
   ]
  },
  {
   "cell_type": "code",
   "execution_count": 11,
   "id": "d3a963d8",
   "metadata": {
    "execution": {
     "iopub.execute_input": "2022-05-15T15:45:35.213145Z",
     "iopub.status.busy": "2022-05-15T15:45:35.212713Z",
     "iopub.status.idle": "2022-05-15T15:45:35.274189Z",
     "shell.execute_reply": "2022-05-15T15:45:35.273539Z"
    },
    "papermill": {
     "duration": 0.104694,
     "end_time": "2022-05-15T15:45:35.276088",
     "exception": false,
     "start_time": "2022-05-15T15:45:35.171394",
     "status": "completed"
    },
    "tags": []
   },
   "outputs": [],
   "source": [
    "cntVec = CountVectorizer()\n",
    "X_train_vec = cntVec.fit_transform(X_train.loc[:, 'tweet'].values).astype(np.int16)\n",
    "X_test_vec = cntVec.transform(X_test.loc[:, 'tweet'].values).astype(np.int16)"
   ]
  },
  {
   "cell_type": "code",
   "execution_count": 12,
   "id": "b1790086",
   "metadata": {
    "execution": {
     "iopub.execute_input": "2022-05-15T15:45:35.357621Z",
     "iopub.status.busy": "2022-05-15T15:45:35.357390Z",
     "iopub.status.idle": "2022-05-15T15:45:35.361147Z",
     "shell.execute_reply": "2022-05-15T15:45:35.360409Z"
    },
    "papermill": {
     "duration": 0.046676,
     "end_time": "2022-05-15T15:45:35.362941",
     "exception": false,
     "start_time": "2022-05-15T15:45:35.316265",
     "status": "completed"
    },
    "tags": []
   },
   "outputs": [],
   "source": [
    "import matplotlib.pyplot as plt"
   ]
  },
  {
   "cell_type": "markdown",
   "id": "e702f14e",
   "metadata": {
    "papermill": {
     "duration": 0.040033,
     "end_time": "2022-05-15T15:45:35.443094",
     "exception": false,
     "start_time": "2022-05-15T15:45:35.403061",
     "status": "completed"
    },
    "tags": []
   },
   "source": [
    "# logistic regression, Naive-bayes (Count Vectorization)"
   ]
  },
  {
   "cell_type": "code",
   "execution_count": 13,
   "id": "1907bc2a",
   "metadata": {
    "execution": {
     "iopub.execute_input": "2022-05-15T15:45:35.523235Z",
     "iopub.status.busy": "2022-05-15T15:45:35.522980Z",
     "iopub.status.idle": "2022-05-15T15:45:35.529043Z",
     "shell.execute_reply": "2022-05-15T15:45:35.528399Z"
    },
    "papermill": {
     "duration": 0.048108,
     "end_time": "2022-05-15T15:45:35.530746",
     "exception": false,
     "start_time": "2022-05-15T15:45:35.482638",
     "status": "completed"
    },
    "tags": []
   },
   "outputs": [],
   "source": [
    "from sklearn.naive_bayes import ComplementNB\n",
    "from sklearn.linear_model import LogisticRegression\n",
    "from sklearn.metrics import accuracy_score, classification_report"
   ]
  },
  {
   "cell_type": "code",
   "execution_count": 14,
   "id": "88808e8b",
   "metadata": {
    "execution": {
     "iopub.execute_input": "2022-05-15T15:45:35.611070Z",
     "iopub.status.busy": "2022-05-15T15:45:35.610401Z",
     "iopub.status.idle": "2022-05-15T15:45:36.473405Z",
     "shell.execute_reply": "2022-05-15T15:45:36.472070Z"
    },
    "papermill": {
     "duration": 0.907127,
     "end_time": "2022-05-15T15:45:36.477250",
     "exception": false,
     "start_time": "2022-05-15T15:45:35.570123",
     "status": "completed"
    },
    "tags": []
   },
   "outputs": [
    {
     "name": "stderr",
     "output_type": "stream",
     "text": [
      "/opt/conda/lib/python3.7/site-packages/sklearn/utils/validation.py:993: DataConversionWarning: A column-vector y was passed when a 1d array was expected. Please change the shape of y to (n_samples, ), for example using ravel().\n",
      "  y = column_or_1d(y, warn=True)\n"
     ]
    },
    {
     "name": "stdout",
     "output_type": "stream",
     "text": [
      "Logistic Regression: The Accuracy for Training Set is 95.17529752331939\n",
      "\n",
      "\n",
      "Naive Bayes: The Accuracy for Training Set is 88.54937278867803\n"
     ]
    },
    {
     "name": "stderr",
     "output_type": "stream",
     "text": [
      "/opt/conda/lib/python3.7/site-packages/sklearn/linear_model/_logistic.py:818: ConvergenceWarning: lbfgs failed to converge (status=1):\n",
      "STOP: TOTAL NO. of ITERATIONS REACHED LIMIT.\n",
      "\n",
      "Increase the number of iterations (max_iter) or scale the data as shown in:\n",
      "    https://scikit-learn.org/stable/modules/preprocessing.html\n",
      "Please also refer to the documentation for alternative solver options:\n",
      "    https://scikit-learn.org/stable/modules/linear_model.html#logistic-regression\n",
      "  extra_warning_msg=_LOGISTIC_SOLVER_CONVERGENCE_MSG,\n",
      "/opt/conda/lib/python3.7/site-packages/sklearn/utils/validation.py:993: DataConversionWarning: A column-vector y was passed when a 1d array was expected. Please change the shape of y to (n_samples, ), for example using ravel().\n",
      "  y = column_or_1d(y, warn=True)\n"
     ]
    }
   ],
   "source": [
    "#logistic regression\n",
    "modelLR = LogisticRegression(random_state = 1)\n",
    "modelLR.fit(X_train_vec, y_train)\n",
    "\n",
    "train_acc = modelLR.score(X_train_vec, y_train)\n",
    "print(\"Logistic Regression: The Accuracy for Training Set is {}\".format(train_acc*100))\n",
    "print('\\n')\n",
    "#naive bayes\n",
    "modelNB = ComplementNB()\n",
    "modelNB.fit(X_train_vec, y_train)\n",
    "train_acc_nb = modelNB.score(X_train_vec, y_train)\n",
    "print(\"Naive Bayes: The Accuracy for Training Set is {}\".format(train_acc_nb*100))"
   ]
  },
  {
   "cell_type": "code",
   "execution_count": 15,
   "id": "3ffef67e",
   "metadata": {
    "execution": {
     "iopub.execute_input": "2022-05-15T15:45:36.642291Z",
     "iopub.status.busy": "2022-05-15T15:45:36.642039Z",
     "iopub.status.idle": "2022-05-15T15:45:36.662100Z",
     "shell.execute_reply": "2022-05-15T15:45:36.660503Z"
    },
    "papermill": {
     "duration": 0.064426,
     "end_time": "2022-05-15T15:45:36.663967",
     "exception": false,
     "start_time": "2022-05-15T15:45:36.599541",
     "status": "completed"
    },
    "tags": []
   },
   "outputs": [
    {
     "name": "stdout",
     "output_type": "stream",
     "text": [
      "Logistic Regression: The Accuracy for Test Set is 66.19537275064268\n",
      "               precision    recall  f1-score   support\n",
      "\n",
      "    offensive       0.71      0.89      0.79       559\n",
      "not-offensive       0.23      0.08      0.12       219\n",
      "\n",
      "     accuracy                           0.66       778\n",
      "    macro avg       0.47      0.49      0.46       778\n",
      " weighted avg       0.57      0.66      0.60       778\n",
      "\n",
      "\n",
      "\n",
      "Naive Bayes: The Accuracy for Test Set is 65.55269922879178\n",
      "               precision    recall  f1-score   support\n",
      "\n",
      "    offensive       0.71      0.89      0.79       559\n",
      "not-offensive       0.23      0.08      0.12       219\n",
      "\n",
      "     accuracy                           0.66       778\n",
      "    macro avg       0.47      0.49      0.46       778\n",
      " weighted avg       0.57      0.66      0.60       778\n",
      "\n"
     ]
    }
   ],
   "source": [
    "#logistic regression\n",
    "y_pred = modelLR.predict(X_test_vec) \n",
    "test_acc = accuracy_score(y_test, y_pred)\n",
    "print(\"Logistic Regression: The Accuracy for Test Set is {}\".format(test_acc*100))\n",
    "print(classification_report(y_test, modelLR.predict(X_test_vec), target_names=['offensive', 'not-offensive']))\n",
    "print('\\n')\n",
    "#naivebayes\n",
    "\n",
    "\n",
    "y_pred = modelNB.predict(X_test_vec) \n",
    "test_acc_nb = accuracy_score(y_test, y_pred)\n",
    "print(\"Naive Bayes: The Accuracy for Test Set is {}\".format(test_acc_nb*100))\n",
    "print(classification_report(y_test, modelLR.predict(X_test_vec), target_names=['offensive', 'not-offensive']))"
   ]
  },
  {
   "cell_type": "markdown",
   "id": "85d88d68",
   "metadata": {
    "papermill": {
     "duration": 0.042854,
     "end_time": "2022-05-15T15:45:36.751709",
     "exception": false,
     "start_time": "2022-05-15T15:45:36.708855",
     "status": "completed"
    },
    "tags": []
   },
   "source": []
  },
  {
   "cell_type": "markdown",
   "id": "7815b169",
   "metadata": {
    "papermill": {
     "duration": 0.041308,
     "end_time": "2022-05-15T15:45:36.837079",
     "exception": false,
     "start_time": "2022-05-15T15:45:36.795771",
     "status": "completed"
    },
    "tags": []
   },
   "source": [
    "# logistic regression, Naive-bayes (TF-IDF)"
   ]
  },
  {
   "cell_type": "code",
   "execution_count": 16,
   "id": "6f31ff42",
   "metadata": {
    "execution": {
     "iopub.execute_input": "2022-05-15T15:45:36.921485Z",
     "iopub.status.busy": "2022-05-15T15:45:36.921236Z",
     "iopub.status.idle": "2022-05-15T15:45:37.087374Z",
     "shell.execute_reply": "2022-05-15T15:45:37.086569Z"
    },
    "papermill": {
     "duration": 0.212016,
     "end_time": "2022-05-15T15:45:37.091113",
     "exception": false,
     "start_time": "2022-05-15T15:45:36.879097",
     "status": "completed"
    },
    "tags": []
   },
   "outputs": [
    {
     "name": "stdout",
     "output_type": "stream",
     "text": [
      "Logistic Regression: The Accuracy for Training Set is 72.30620778385332\n",
      "\n",
      "\n",
      "Naive Bayes: The Accuracy for Training Set is 72.30620778385332\n"
     ]
    },
    {
     "name": "stderr",
     "output_type": "stream",
     "text": [
      "/opt/conda/lib/python3.7/site-packages/sklearn/utils/validation.py:993: DataConversionWarning: A column-vector y was passed when a 1d array was expected. Please change the shape of y to (n_samples, ), for example using ravel().\n",
      "  y = column_or_1d(y, warn=True)\n",
      "/opt/conda/lib/python3.7/site-packages/sklearn/utils/validation.py:993: DataConversionWarning: A column-vector y was passed when a 1d array was expected. Please change the shape of y to (n_samples, ), for example using ravel().\n",
      "  y = column_or_1d(y, warn=True)\n"
     ]
    }
   ],
   "source": [
    "#logistic regression\n",
    "modelLR = LogisticRegression(random_state = 1)\n",
    "modelLR.fit(X_train_tf, y_train)\n",
    "\n",
    "train_acc_tf = modelLR.score(X_train_tf, y_train)\n",
    "print(\"Logistic Regression: The Accuracy for Training Set is {}\".format(train_acc_tf*100))\n",
    "print('\\n')\n",
    "#naive bayes\n",
    "modelNB = ComplementNB()\n",
    "modelNB.fit(X_train_tf, y_train)\n",
    "train_acc_nb_tf = modelNB.score(X_train_tf, y_train)\n",
    "print(\"Naive Bayes: The Accuracy for Training Set is {}\".format(train_acc_nb_tf*100))"
   ]
  },
  {
   "cell_type": "code",
   "execution_count": 17,
   "id": "b8fe566b",
   "metadata": {
    "execution": {
     "iopub.execute_input": "2022-05-15T15:45:37.273207Z",
     "iopub.status.busy": "2022-05-15T15:45:37.272931Z",
     "iopub.status.idle": "2022-05-15T15:45:37.300807Z",
     "shell.execute_reply": "2022-05-15T15:45:37.299136Z"
    },
    "papermill": {
     "duration": 0.080845,
     "end_time": "2022-05-15T15:45:37.303748",
     "exception": false,
     "start_time": "2022-05-15T15:45:37.222903",
     "status": "completed"
    },
    "tags": []
   },
   "outputs": [
    {
     "name": "stdout",
     "output_type": "stream",
     "text": [
      "Logistic Regression: The Accuracy for Test Set is 71.8508997429306\n",
      "               precision    recall  f1-score   support\n",
      "\n",
      "    offensive       0.72      1.00      0.84       559\n",
      "not-offensive       0.00      0.00      0.00       219\n",
      "\n",
      "     accuracy                           0.72       778\n",
      "    macro avg       0.36      0.50      0.42       778\n",
      " weighted avg       0.52      0.72      0.60       778\n",
      "\n",
      "\n",
      "\n",
      "Naive Bayes: The Accuracy for Test Set is 71.8508997429306\n",
      "               precision    recall  f1-score   support\n",
      "\n",
      "    offensive       0.72      0.99      0.84       559\n",
      "not-offensive       0.50      0.01      0.03       219\n",
      "\n",
      "     accuracy                           0.72       778\n",
      "    macro avg       0.61      0.50      0.43       778\n",
      " weighted avg       0.66      0.72      0.61       778\n",
      "\n"
     ]
    },
    {
     "name": "stderr",
     "output_type": "stream",
     "text": [
      "/opt/conda/lib/python3.7/site-packages/sklearn/metrics/_classification.py:1318: UndefinedMetricWarning: Precision and F-score are ill-defined and being set to 0.0 in labels with no predicted samples. Use `zero_division` parameter to control this behavior.\n",
      "  _warn_prf(average, modifier, msg_start, len(result))\n",
      "/opt/conda/lib/python3.7/site-packages/sklearn/metrics/_classification.py:1318: UndefinedMetricWarning: Precision and F-score are ill-defined and being set to 0.0 in labels with no predicted samples. Use `zero_division` parameter to control this behavior.\n",
      "  _warn_prf(average, modifier, msg_start, len(result))\n",
      "/opt/conda/lib/python3.7/site-packages/sklearn/metrics/_classification.py:1318: UndefinedMetricWarning: Precision and F-score are ill-defined and being set to 0.0 in labels with no predicted samples. Use `zero_division` parameter to control this behavior.\n",
      "  _warn_prf(average, modifier, msg_start, len(result))\n"
     ]
    }
   ],
   "source": [
    "#logistic regression\n",
    "y_pred = modelLR.predict(X_test_tf) \n",
    "test_acc_tf = accuracy_score(y_test, y_pred)\n",
    "print(\"Logistic Regression: The Accuracy for Test Set is {}\".format(test_acc_tf*100))\n",
    "print(classification_report(y_test, modelLR.predict(X_test_tf), target_names=['offensive', 'not-offensive']))\n",
    "\n",
    "print('\\n')\n",
    "#naivebayes\n",
    "\n",
    "\n",
    "y_pred = modelNB.predict(X_test_tf) \n",
    "test_acc_nb_tf = accuracy_score(y_test, y_pred)\n",
    "print(\"Naive Bayes: The Accuracy for Test Set is {}\".format(test_acc_nb_tf*100))\n",
    "print(classification_report(y_test, modelNB.predict(X_test_tf), target_names=['offensive', 'not-offensive']))"
   ]
  },
  {
   "cell_type": "code",
   "execution_count": 18,
   "id": "a0384f79",
   "metadata": {
    "execution": {
     "iopub.execute_input": "2022-05-15T15:45:37.396880Z",
     "iopub.status.busy": "2022-05-15T15:45:37.396394Z",
     "iopub.status.idle": "2022-05-15T15:45:37.725325Z",
     "shell.execute_reply": "2022-05-15T15:45:37.724633Z"
    },
    "papermill": {
     "duration": 0.376089,
     "end_time": "2022-05-15T15:45:37.727216",
     "exception": false,
     "start_time": "2022-05-15T15:45:37.351127",
     "status": "completed"
    },
    "tags": []
   },
   "outputs": [
    {
     "data": {
      "image/png": "[encoded data removed]",
      "text/plain": [
       "<Figure size 432x288 with 1 Axes>"
      ]
     },
     "metadata": {
      "needs_background": "light"
     },
     "output_type": "display_data"
    }
   ],
   "source": [
    "x = np.array([\"LR(CV)\",\"LR(TFIDF)\", \"NB(CV)\",\"NB(TFIDF)\"])\n",
    "y = np.array([int(test_acc*100), int(test_acc_tf*100), int(test_acc_nb*100), int(train_acc_nb_tf*100)])\n",
    "plt.bar(x,y,width = 0.5)\n",
    "plt.show()"
   ]
  },
  {
   "cell_type": "markdown",
   "id": "85299569",
   "metadata": {
    "papermill": {
     "duration": 0.044427,
     "end_time": "2022-05-15T15:45:37.815819",
     "exception": false,
     "start_time": "2022-05-15T15:45:37.771392",
     "status": "completed"
    },
    "tags": []
   },
   "source": [
    "# RNN with pooling layer"
   ]
  },
  {
   "cell_type": "code",
   "execution_count": 19,
   "id": "642849b3",
   "metadata": {
    "execution": {
     "iopub.execute_input": "2022-05-15T15:45:37.906772Z",
     "iopub.status.busy": "2022-05-15T15:45:37.906494Z",
     "iopub.status.idle": "2022-05-15T15:45:43.060806Z",
     "shell.execute_reply": "2022-05-15T15:45:43.060022Z"
    },
    "papermill": {
     "duration": 5.202759,
     "end_time": "2022-05-15T15:45:43.062918",
     "exception": false,
     "start_time": "2022-05-15T15:45:37.860159",
     "status": "completed"
    },
    "tags": []
   },
   "outputs": [],
   "source": [
    "from keras.preprocessing.text import Tokenizer\n",
    "tokenizer = Tokenizer(num_words=5000)\n",
    "tokenizer.fit_on_texts(X_train['tweet'])\n",
    "X_train = tokenizer.texts_to_sequences(X_train['tweet'])\n",
    "X_test = tokenizer.texts_to_sequences(X_test['tweet'])\n",
    "vocab_size = len(tokenizer.word_index) + 1"
   ]
  },
  {
   "cell_type": "code",
   "execution_count": 20,
   "id": "b7a460c2",
   "metadata": {
    "execution": {
     "iopub.execute_input": "2022-05-15T15:45:43.153261Z",
     "iopub.status.busy": "2022-05-15T15:45:43.153021Z",
     "iopub.status.idle": "2022-05-15T15:45:43.174446Z",
     "shell.execute_reply": "2022-05-15T15:45:43.173767Z"
    },
    "papermill": {
     "duration": 0.068458,
     "end_time": "2022-05-15T15:45:43.176345",
     "exception": false,
     "start_time": "2022-05-15T15:45:43.107887",
     "status": "completed"
    },
    "tags": []
   },
   "outputs": [],
   "source": [
    "from keras.preprocessing.sequence import pad_sequences\n",
    "maxlen = 100\n",
    "X_train = pad_sequences(X_train, padding='post', maxlen=maxlen)\n",
    "X_test = pad_sequences(X_test, padding='post', maxlen=maxlen)"
   ]
  },
  {
   "cell_type": "code",
   "execution_count": 21,
   "id": "73ffb0e3",
   "metadata": {
    "execution": {
     "iopub.execute_input": "2022-05-15T15:45:43.265718Z",
     "iopub.status.busy": "2022-05-15T15:45:43.265495Z",
     "iopub.status.idle": "2022-05-15T15:45:50.050583Z",
     "shell.execute_reply": "2022-05-15T15:45:50.049861Z"
    },
    "papermill": {
     "duration": 6.832177,
     "end_time": "2022-05-15T15:45:50.052602",
     "exception": false,
     "start_time": "2022-05-15T15:45:43.220425",
     "status": "completed"
    },
    "tags": []
   },
   "outputs": [],
   "source": [
    "embedding_dim = 100\n",
    "def create_embedding_matrix(filepath, word_index, embedding_dim):\n",
    "    vocab_size = len(word_index) + 1  # Adding again 1 because of reserved 0 index\n",
    "    embedding_matrix = np.zeros((vocab_size, embedding_dim))\n",
    "\n",
    "    with open(filepath,'r', encoding=\"utf8\") as f:\n",
    "        for line in f:\n",
    "            txt = line.split()\n",
    "            word, vector = txt[0], txt[1:]\n",
    "           \n",
    "            if word in word_index:\n",
    "                idx = word_index[word] \n",
    "                embedding_matrix[idx] = np.array(\n",
    "                    vector, dtype=np.float32)[:embedding_dim]\n",
    "\n",
    "    return embedding_matrix\n",
    "\n",
    "embedding_matrix = create_embedding_matrix('../input/glove6b100dtxt/glove.6B.100d.txt',tokenizer.word_index, embedding_dim)"
   ]
  },
  {
   "cell_type": "code",
   "execution_count": 22,
   "id": "d3bf1cfe",
   "metadata": {
    "execution": {
     "iopub.execute_input": "2022-05-15T15:45:50.141382Z",
     "iopub.status.busy": "2022-05-15T15:45:50.141127Z",
     "iopub.status.idle": "2022-05-15T15:45:53.404783Z",
     "shell.execute_reply": "2022-05-15T15:45:53.402318Z"
    },
    "papermill": {
     "duration": 3.31026,
     "end_time": "2022-05-15T15:45:53.406531",
     "exception": false,
     "start_time": "2022-05-15T15:45:50.096271",
     "status": "completed"
    },
    "tags": []
   },
   "outputs": [
    {
     "name": "stdout",
     "output_type": "stream",
     "text": [
      "Model: \"sequential\"\n",
      "_________________________________________________________________\n",
      "Layer (type)                 Output Shape              Param #   \n",
      "=================================================================\n",
      "embedding (Embedding)        (None, 100, 100)          653100    \n",
      "_________________________________________________________________\n",
      "global_max_pooling1d (Global (None, 100)               0         \n",
      "_________________________________________________________________\n",
      "dense (Dense)                (None, 10)                1010      \n",
      "_________________________________________________________________\n",
      "dense_1 (Dense)              (None, 1)                 11        \n",
      "=================================================================\n",
      "Total params: 654,121\n",
      "Trainable params: 654,121\n",
      "Non-trainable params: 0\n",
      "_________________________________________________________________\n"
     ]
    },
    {
     "name": "stderr",
     "output_type": "stream",
     "text": [
      "2022-05-15 15:45:50.227369: I tensorflow/stream_executor/cuda/cuda_gpu_executor.cc:937] successful NUMA node read from SysFS had negative value (-1), but there must be at least one NUMA node, so returning NUMA node zero\n",
      "2022-05-15 15:45:50.375564: I tensorflow/stream_executor/cuda/cuda_gpu_executor.cc:937] successful NUMA node read from SysFS had negative value (-1), but there must be at least one NUMA node, so returning NUMA node zero\n",
      "2022-05-15 15:45:50.376510: I tensorflow/stream_executor/cuda/cuda_gpu_executor.cc:937] successful NUMA node read from SysFS had negative value (-1), but there must be at least one NUMA node, so returning NUMA node zero\n",
      "2022-05-15 15:45:50.378066: I tensorflow/core/platform/cpu_feature_guard.cc:142] This TensorFlow binary is optimized with oneAPI Deep Neural Network Library (oneDNN) to use the following CPU instructions in performance-critical operations:  AVX2 AVX512F FMA\n",
      "To enable them in other operations, rebuild TensorFlow with the appropriate compiler flags.\n",
      "2022-05-15 15:45:50.378387: I tensorflow/stream_executor/cuda/cuda_gpu_executor.cc:937] successful NUMA node read from SysFS had negative value (-1), but there must be at least one NUMA node, so returning NUMA node zero\n",
      "2022-05-15 15:45:50.379171: I tensorflow/stream_executor/cuda/cuda_gpu_executor.cc:937] successful NUMA node read from SysFS had negative value (-1), but there must be at least one NUMA node, so returning NUMA node zero\n",
      "2022-05-15 15:45:50.379884: I tensorflow/stream_executor/cuda/cuda_gpu_executor.cc:937] successful NUMA node read from SysFS had negative value (-1), but there must be at least one NUMA node, so returning NUMA node zero\n",
      "2022-05-15 15:45:52.674833: I tensorflow/stream_executor/cuda/cuda_gpu_executor.cc:937] successful NUMA node read from SysFS had negative value (-1), but there must be at least one NUMA node, so returning NUMA node zero\n",
      "2022-05-15 15:45:52.676051: I tensorflow/stream_executor/cuda/cuda_gpu_executor.cc:937] successful NUMA node read from SysFS had negative value (-1), but there must be at least one NUMA node, so returning NUMA node zero\n",
      "2022-05-15 15:45:52.676997: I tensorflow/stream_executor/cuda/cuda_gpu_executor.cc:937] successful NUMA node read from SysFS had negative value (-1), but there must be at least one NUMA node, so returning NUMA node zero\n",
      "2022-05-15 15:45:52.680758: I tensorflow/core/common_runtime/gpu/gpu_device.cc:1510] Created device /job:localhost/replica:0/task:0/device:GPU:0 with 15403 MB memory:  -> device: 0, name: Tesla P100-PCIE-16GB, pci bus id: 0000:00:04.0, compute capability: 6.0\n"
     ]
    }
   ],
   "source": [
    "from keras.models import Sequential\n",
    "from keras import layers\n",
    "model = Sequential()\n",
    "model.add(layers.Embedding(vocab_size, embedding_dim, \n",
    "                           weights=[embedding_matrix], \n",
    "                           input_length=maxlen, \n",
    "                           trainable=True))\n",
    "model.add(layers.GlobalMaxPooling1D())\n",
    "model.add(layers.Dense(10, activation='relu'))\n",
    "model.add(layers.Dense(1, activation='sigmoid'))\n",
    "\n",
    "model.compile(optimizer='adam',\n",
    "              loss='binary_crossentropy',\n",
    "              metrics=['accuracy'])\n",
    "model.summary()"
   ]
  },
  {
   "cell_type": "code",
   "execution_count": 23,
   "id": "58cbba62",
   "metadata": {
    "execution": {
     "iopub.execute_input": "2022-05-15T15:45:53.499344Z",
     "iopub.status.busy": "2022-05-15T15:45:53.499105Z",
     "iopub.status.idle": "2022-05-15T15:47:15.983273Z",
     "shell.execute_reply": "2022-05-15T15:47:15.982363Z"
    },
    "papermill": {
     "duration": 82.531902,
     "end_time": "2022-05-15T15:47:15.985840",
     "exception": false,
     "start_time": "2022-05-15T15:45:53.453938",
     "status": "completed"
    },
    "tags": []
   },
   "outputs": [
    {
     "name": "stderr",
     "output_type": "stream",
     "text": [
      "2022-05-15 15:45:53.564768: I tensorflow/compiler/mlir/mlir_graph_optimization_pass.cc:185] None of the MLIR Optimization Passes are enabled (registered 2)\n"
     ]
    }
   ],
   "source": [
    "history = model.fit(X_train, y_train,\n",
    "                    epochs=50,\n",
    "                    verbose=False,\n",
    "                    validation_data=(X_test, y_test),\n",
    "                    batch_size=10)"
   ]
  },
  {
   "cell_type": "code",
   "execution_count": 24,
   "id": "dcf02d58",
   "metadata": {
    "execution": {
     "iopub.execute_input": "2022-05-15T15:47:16.075315Z",
     "iopub.status.busy": "2022-05-15T15:47:16.074605Z",
     "iopub.status.idle": "2022-05-15T15:47:16.312146Z",
     "shell.execute_reply": "2022-05-15T15:47:16.310725Z"
    },
    "papermill": {
     "duration": 0.283848,
     "end_time": "2022-05-15T15:47:16.314020",
     "exception": false,
     "start_time": "2022-05-15T15:47:16.030172",
     "status": "completed"
    },
    "tags": []
   },
   "outputs": [
    {
     "name": "stdout",
     "output_type": "stream",
     "text": [
      "98/98 - 0s - loss: -6.1419e-02 - accuracy: 0.9977\n",
      "Training Accuracy (RNN with pooling layer): 99.7748\n",
      "25/25 - 0s - loss: 4.4028 - accuracy: 0.6440\n",
      "Testing Accuracy (RNN with pooling layer):  64.3959\n"
     ]
    }
   ],
   "source": [
    "loss, accuracy = model.evaluate(X_train, y_train, verbose=2)\n",
    "print(\"Training Accuracy (RNN with pooling layer): {:.4f}\".format(accuracy*100))\n",
    "loss, accuracyRNN = model.evaluate(X_test, y_test, verbose=2)\n",
    "print(\"Testing Accuracy (RNN with pooling layer):  {:.4f}\".format(accuracyRNN*100))"
   ]
  },
  {
   "cell_type": "markdown",
   "id": "cce22516",
   "metadata": {
    "papermill": {
     "duration": 0.045337,
     "end_time": "2022-05-15T15:47:16.404843",
     "exception": false,
     "start_time": "2022-05-15T15:47:16.359506",
     "status": "completed"
    },
    "tags": []
   },
   "source": [
    "# LSTM"
   ]
  },
  {
   "cell_type": "code",
   "execution_count": 25,
   "id": "d0bbf903",
   "metadata": {
    "execution": {
     "iopub.execute_input": "2022-05-15T15:47:16.496370Z",
     "iopub.status.busy": "2022-05-15T15:47:16.495853Z",
     "iopub.status.idle": "2022-05-15T15:47:16.499756Z",
     "shell.execute_reply": "2022-05-15T15:47:16.498946Z"
    },
    "papermill": {
     "duration": 0.051798,
     "end_time": "2022-05-15T15:47:16.501647",
     "exception": false,
     "start_time": "2022-05-15T15:47:16.449849",
     "status": "completed"
    },
    "tags": []
   },
   "outputs": [],
   "source": [
    "from keras.layers import LSTM, embeddings, Dense"
   ]
  },
  {
   "cell_type": "code",
   "execution_count": 26,
   "id": "79cbf51b",
   "metadata": {
    "execution": {
     "iopub.execute_input": "2022-05-15T15:47:16.592617Z",
     "iopub.status.busy": "2022-05-15T15:47:16.592048Z",
     "iopub.status.idle": "2022-05-15T15:47:16.595902Z",
     "shell.execute_reply": "2022-05-15T15:47:16.595227Z"
    },
    "papermill": {
     "duration": 0.051301,
     "end_time": "2022-05-15T15:47:16.597643",
     "exception": false,
     "start_time": "2022-05-15T15:47:16.546342",
     "status": "completed"
    },
    "tags": []
   },
   "outputs": [],
   "source": [
    "np.random.seed(7)"
   ]
  },
  {
   "cell_type": "code",
   "execution_count": 27,
   "id": "098526d9",
   "metadata": {
    "execution": {
     "iopub.execute_input": "2022-05-15T15:47:16.687666Z",
     "iopub.status.busy": "2022-05-15T15:47:16.687469Z",
     "iopub.status.idle": "2022-05-15T15:47:16.939530Z",
     "shell.execute_reply": "2022-05-15T15:47:16.938787Z"
    },
    "papermill": {
     "duration": 0.299745,
     "end_time": "2022-05-15T15:47:16.941669",
     "exception": false,
     "start_time": "2022-05-15T15:47:16.641924",
     "status": "completed"
    },
    "tags": []
   },
   "outputs": [
    {
     "name": "stdout",
     "output_type": "stream",
     "text": [
      "Model: \"sequential_1\"\n",
      "_________________________________________________________________\n",
      "Layer (type)                 Output Shape              Param #   \n",
      "=================================================================\n",
      "embedding_1 (Embedding)      (None, 500, 100)          653100    \n",
      "_________________________________________________________________\n",
      "lstm (LSTM)                  (None, 100)               80400     \n",
      "_________________________________________________________________\n",
      "dense_2 (Dense)              (None, 10)                1010      \n",
      "_________________________________________________________________\n",
      "dense_3 (Dense)              (None, 1)                 11        \n",
      "=================================================================\n",
      "Total params: 734,521\n",
      "Trainable params: 734,521\n",
      "Non-trainable params: 0\n",
      "_________________________________________________________________\n"
     ]
    }
   ],
   "source": [
    "from keras.models import Sequential\n",
    "from keras import layers\n",
    "model = Sequential()\n",
    "model.add(layers.Embedding(vocab_size, embedding_dim, \n",
    "                           weights=[embedding_matrix], \n",
    "                           input_length=500, \n",
    "                           trainable=True))\n",
    "model.add(LSTM(100))\n",
    "\n",
    "model.add(Dense(10, activation='relu'))\n",
    "model.add(layers.Dense(1, activation='sigmoid'))\n",
    "\n",
    "model.compile(optimizer='adam',\n",
    "              loss='binary_crossentropy',\n",
    "              metrics=['accuracy'])\n",
    "model.summary()"
   ]
  },
  {
   "cell_type": "code",
   "execution_count": 28,
   "id": "dd46c2ce",
   "metadata": {
    "execution": {
     "iopub.execute_input": "2022-05-15T15:47:17.034910Z",
     "iopub.status.busy": "2022-05-15T15:47:17.034654Z",
     "iopub.status.idle": "2022-05-15T15:49:40.298983Z",
     "shell.execute_reply": "2022-05-15T15:49:40.298186Z"
    },
    "papermill": {
     "duration": 143.313126,
     "end_time": "2022-05-15T15:49:40.301506",
     "exception": false,
     "start_time": "2022-05-15T15:47:16.988380",
     "status": "completed"
    },
    "tags": []
   },
   "outputs": [
    {
     "name": "stderr",
     "output_type": "stream",
     "text": [
      "2022-05-15 15:47:19.194984: I tensorflow/stream_executor/cuda/cuda_dnn.cc:369] Loaded cuDNN version 8005\n"
     ]
    }
   ],
   "source": [
    "history = model.fit(X_train, y_train,\n",
    "                    epochs=50,\n",
    "                    verbose=False,\n",
    "                    validation_data=(X_test, y_test),\n",
    "                    batch_size=10)"
   ]
  },
  {
   "cell_type": "code",
   "execution_count": 29,
   "id": "cc0f5581",
   "metadata": {
    "execution": {
     "iopub.execute_input": "2022-05-15T15:49:40.397289Z",
     "iopub.status.busy": "2022-05-15T15:49:40.397053Z",
     "iopub.status.idle": "2022-05-15T15:49:40.879901Z",
     "shell.execute_reply": "2022-05-15T15:49:40.878452Z"
    },
    "papermill": {
     "duration": 0.533408,
     "end_time": "2022-05-15T15:49:40.881824",
     "exception": false,
     "start_time": "2022-05-15T15:49:40.348416",
     "status": "completed"
    },
    "tags": []
   },
   "outputs": [
    {
     "name": "stdout",
     "output_type": "stream",
     "text": [
      "98/98 - 0s - loss: 0.5905 - accuracy: 0.7231\n",
      "Training Accuracy (LSTM): 72.3062\n",
      "25/25 - 0s - loss: 0.5944 - accuracy: 0.7185\n",
      "Testing Accuracy (LSTM):  71.8509\n"
     ]
    }
   ],
   "source": [
    "loss, accuracy = model.evaluate(X_train, y_train, verbose=2)\n",
    "print(\"Training Accuracy (LSTM): {:.4f}\".format(accuracy*100))\n",
    "loss, accuracyLSTM = model.evaluate(X_test, y_test, verbose=2)\n",
    "print(\"Testing Accuracy (LSTM):  {:.4f}\".format(accuracyLSTM*100))"
   ]
  },
  {
   "cell_type": "code",
   "execution_count": 30,
   "id": "b193f7b4",
   "metadata": {
    "execution": {
     "iopub.execute_input": "2022-05-15T15:49:40.979120Z",
     "iopub.status.busy": "2022-05-15T15:49:40.978896Z",
     "iopub.status.idle": "2022-05-15T15:49:40.982642Z",
     "shell.execute_reply": "2022-05-15T15:49:40.981880Z"
    },
    "papermill": {
     "duration": 0.054554,
     "end_time": "2022-05-15T15:49:40.984636",
     "exception": false,
     "start_time": "2022-05-15T15:49:40.930082",
     "status": "completed"
    },
    "tags": []
   },
   "outputs": [],
   "source": [
    "from keras.layers import Dense, Dropout, Embedding, LSTM, Bidirectional"
   ]
  },
  {
   "cell_type": "markdown",
   "id": "568301d3",
   "metadata": {
    "execution": {
     "iopub.status.busy": "2022-05-15T07:12:36.676042Z",
     "iopub.status.idle": "2022-05-15T07:12:36.676678Z",
     "shell.execute_reply": "2022-05-15T07:12:36.676475Z",
     "shell.execute_reply.started": "2022-05-15T07:12:36.676451Z"
    },
    "papermill": {
     "duration": 0.054026,
     "end_time": "2022-05-15T15:49:41.099913",
     "exception": false,
     "start_time": "2022-05-15T15:49:41.045887",
     "status": "completed"
    },
    "tags": []
   },
   "source": []
  },
  {
   "cell_type": "code",
   "execution_count": 31,
   "id": "aba93b5b",
   "metadata": {
    "execution": {
     "iopub.execute_input": "2022-05-15T15:49:41.202597Z",
     "iopub.status.busy": "2022-05-15T15:49:41.202351Z",
     "iopub.status.idle": "2022-05-15T15:49:41.623581Z",
     "shell.execute_reply": "2022-05-15T15:49:41.622649Z"
    },
    "papermill": {
     "duration": 0.471233,
     "end_time": "2022-05-15T15:49:41.625850",
     "exception": false,
     "start_time": "2022-05-15T15:49:41.154617",
     "status": "completed"
    },
    "tags": []
   },
   "outputs": [
    {
     "name": "stdout",
     "output_type": "stream",
     "text": [
      "Model: \"sequential_2\"\n",
      "_________________________________________________________________\n",
      "Layer (type)                 Output Shape              Param #   \n",
      "=================================================================\n",
      "embedding_2 (Embedding)      (None, 200, 128)          835968    \n",
      "_________________________________________________________________\n",
      "bidirectional (Bidirectional (None, 128)               98816     \n",
      "_________________________________________________________________\n",
      "dropout (Dropout)            (None, 128)               0         \n",
      "_________________________________________________________________\n",
      "dense_4 (Dense)              (None, 10)                1290      \n",
      "_________________________________________________________________\n",
      "dropout_1 (Dropout)          (None, 10)                0         \n",
      "_________________________________________________________________\n",
      "dense_5 (Dense)              (None, 1)                 11        \n",
      "=================================================================\n",
      "Total params: 936,085\n",
      "Trainable params: 936,085\n",
      "Non-trainable params: 0\n",
      "_________________________________________________________________\n"
     ]
    }
   ],
   "source": [
    "maxlen = 200\n",
    "batch_size = 128 \n",
    "model = Sequential()\n",
    "model.add(Embedding(vocab_size, batch_size, input_length=maxlen))\n",
    "model.add(Bidirectional(LSTM(64)))\n",
    "model.add(Dropout(0.5))\n",
    "model.add(Dense(10, activation='relu'))\n",
    "model.add(Dropout(0.5))\n",
    "model.add(layers.Dense(1, activation='sigmoid'))\n",
    "\n",
    "model.compile(loss='binary_crossentropy', optimizer='adam', metrics=['accuracy']) \n",
    "model.summary()"
   ]
  },
  {
   "cell_type": "code",
   "execution_count": 32,
   "id": "6ff17c68",
   "metadata": {
    "execution": {
     "iopub.execute_input": "2022-05-15T15:49:41.721370Z",
     "iopub.status.busy": "2022-05-15T15:49:41.721150Z",
     "iopub.status.idle": "2022-05-15T15:50:04.730746Z",
     "shell.execute_reply": "2022-05-15T15:50:04.729809Z"
    },
    "papermill": {
     "duration": 23.059485,
     "end_time": "2022-05-15T15:50:04.732880",
     "exception": false,
     "start_time": "2022-05-15T15:49:41.673395",
     "status": "completed"
    },
    "tags": []
   },
   "outputs": [
    {
     "name": "stdout",
     "output_type": "stream",
     "text": [
      "Epoch 1/50\n",
      "25/25 [==============================] - 4s 36ms/step - loss: 0.6301 - accuracy: 0.7086 - val_loss: 0.0000e+00 - val_accuracy: 0.0000e+00\n",
      "Epoch 2/50\n",
      "25/25 [==============================] - 0s 15ms/step - loss: 0.6063 - accuracy: 0.7218 - val_loss: 0.0000e+00 - val_accuracy: 0.0000e+00\n",
      "Epoch 3/50\n",
      "25/25 [==============================] - 0s 15ms/step - loss: 0.5883 - accuracy: 0.7224 - val_loss: 0.0000e+00 - val_accuracy: 0.0000e+00\n",
      "Epoch 4/50\n",
      "25/25 [==============================] - 0s 14ms/step - loss: 0.5495 - accuracy: 0.7231 - val_loss: 0.0000e+00 - val_accuracy: 0.0000e+00\n",
      "Epoch 5/50\n",
      "25/25 [==============================] - 0s 15ms/step - loss: 0.9435 - accuracy: 0.7147 - val_loss: 0.0000e+00 - val_accuracy: 0.0000e+00\n",
      "Epoch 6/50\n",
      "25/25 [==============================] - 0s 15ms/step - loss: 0.5199 - accuracy: 0.7459 - val_loss: 0.0000e+00 - val_accuracy: 0.0000e+00\n",
      "Epoch 7/50\n",
      "25/25 [==============================] - 0s 15ms/step - loss: 0.4328 - accuracy: 0.8051 - val_loss: 0.0000e+00 - val_accuracy: 0.0000e+00\n",
      "Epoch 8/50\n",
      "25/25 [==============================] - 0s 16ms/step - loss: 0.3528 - accuracy: 0.8456 - val_loss: 0.0000e+00 - val_accuracy: 0.0000e+00\n",
      "Epoch 9/50\n",
      "25/25 [==============================] - 0s 15ms/step - loss: 0.2690 - accuracy: 0.8990 - val_loss: 0.0000e+00 - val_accuracy: 0.0000e+00\n",
      "Epoch 10/50\n",
      "25/25 [==============================] - 0s 15ms/step - loss: 0.2251 - accuracy: 0.9164 - val_loss: 0.0000e+00 - val_accuracy: 0.0000e+00\n",
      "Epoch 11/50\n",
      "25/25 [==============================] - 0s 15ms/step - loss: 0.1822 - accuracy: 0.9376 - val_loss: 0.0000e+00 - val_accuracy: 0.0000e+00\n",
      "Epoch 12/50\n",
      "25/25 [==============================] - 0s 16ms/step - loss: 0.1521 - accuracy: 0.9427 - val_loss: 0.0000e+00 - val_accuracy: 0.0000e+00\n",
      "Epoch 13/50\n",
      "25/25 [==============================] - 0s 15ms/step - loss: 0.1237 - accuracy: 0.9550 - val_loss: 0.0000e+00 - val_accuracy: 0.0000e+00\n",
      "Epoch 14/50\n",
      "25/25 [==============================] - 0s 16ms/step - loss: 0.1213 - accuracy: 0.9514 - val_loss: 0.0000e+00 - val_accuracy: 0.0000e+00\n",
      "Epoch 15/50\n",
      "25/25 [==============================] - 0s 15ms/step - loss: 0.0998 - accuracy: 0.9672 - val_loss: 0.0000e+00 - val_accuracy: 0.0000e+00\n",
      "Epoch 16/50\n",
      "25/25 [==============================] - 0s 15ms/step - loss: 0.0907 - accuracy: 0.9649 - val_loss: 0.0000e+00 - val_accuracy: 0.0000e+00\n",
      "Epoch 17/50\n",
      "25/25 [==============================] - 0s 15ms/step - loss: 0.0860 - accuracy: 0.9665 - val_loss: 0.0000e+00 - val_accuracy: 0.0000e+00\n",
      "Epoch 18/50\n",
      "25/25 [==============================] - 0s 15ms/step - loss: 0.0802 - accuracy: 0.9653 - val_loss: 0.0000e+00 - val_accuracy: 0.0000e+00\n",
      "Epoch 19/50\n",
      "25/25 [==============================] - 0s 15ms/step - loss: 0.0739 - accuracy: 0.9707 - val_loss: 0.0000e+00 - val_accuracy: 0.0000e+00\n",
      "Epoch 20/50\n",
      "25/25 [==============================] - 0s 15ms/step - loss: 0.0677 - accuracy: 0.9707 - val_loss: 0.0000e+00 - val_accuracy: 0.0000e+00\n",
      "Epoch 21/50\n",
      "25/25 [==============================] - 0s 15ms/step - loss: 0.0580 - accuracy: 0.9694 - val_loss: 0.0000e+00 - val_accuracy: 0.0000e+00\n",
      "Epoch 22/50\n",
      "25/25 [==============================] - 0s 16ms/step - loss: 0.0516 - accuracy: 0.9752 - val_loss: 0.0000e+00 - val_accuracy: 0.0000e+00\n",
      "Epoch 23/50\n",
      "25/25 [==============================] - 0s 16ms/step - loss: 0.0513 - accuracy: 0.9701 - val_loss: 0.0000e+00 - val_accuracy: 0.0000e+00\n",
      "Epoch 24/50\n",
      "25/25 [==============================] - 0s 18ms/step - loss: 0.0551 - accuracy: 0.9701 - val_loss: 0.0000e+00 - val_accuracy: 0.0000e+00\n",
      "Epoch 25/50\n",
      "25/25 [==============================] - 0s 16ms/step - loss: 0.0515 - accuracy: 0.9701 - val_loss: 0.0000e+00 - val_accuracy: 0.0000e+00\n",
      "Epoch 26/50\n",
      "25/25 [==============================] - 0s 14ms/step - loss: 0.0465 - accuracy: 0.9756 - val_loss: 0.0000e+00 - val_accuracy: 0.0000e+00\n",
      "Epoch 27/50\n",
      "25/25 [==============================] - 0s 15ms/step - loss: 0.0481 - accuracy: 0.9739 - val_loss: 0.0000e+00 - val_accuracy: 0.0000e+00\n",
      "Epoch 28/50\n",
      "25/25 [==============================] - 0s 15ms/step - loss: 0.0503 - accuracy: 0.9698 - val_loss: 0.0000e+00 - val_accuracy: 0.0000e+00\n",
      "Epoch 29/50\n",
      "25/25 [==============================] - 0s 14ms/step - loss: 0.0377 - accuracy: 0.9775 - val_loss: 0.0000e+00 - val_accuracy: 0.0000e+00\n",
      "Epoch 30/50\n",
      "25/25 [==============================] - 0s 15ms/step - loss: 0.0362 - accuracy: 0.9788 - val_loss: 0.0000e+00 - val_accuracy: 0.0000e+00\n",
      "Epoch 31/50\n",
      "25/25 [==============================] - 0s 15ms/step - loss: 0.0337 - accuracy: 0.9791 - val_loss: 0.0000e+00 - val_accuracy: 0.0000e+00\n",
      "Epoch 32/50\n",
      "25/25 [==============================] - 0s 15ms/step - loss: 0.0328 - accuracy: 0.9765 - val_loss: 0.0000e+00 - val_accuracy: 0.0000e+00\n",
      "Epoch 33/50\n",
      "25/25 [==============================] - 0s 16ms/step - loss: 0.0298 - accuracy: 0.9801 - val_loss: 0.0000e+00 - val_accuracy: 0.0000e+00\n",
      "Epoch 34/50\n",
      "25/25 [==============================] - 0s 16ms/step - loss: 0.0298 - accuracy: 0.9788 - val_loss: 0.0000e+00 - val_accuracy: 0.0000e+00\n",
      "Epoch 35/50\n",
      "25/25 [==============================] - 0s 15ms/step - loss: 0.0405 - accuracy: 0.9781 - val_loss: 0.0000e+00 - val_accuracy: 0.0000e+00\n",
      "Epoch 36/50\n",
      "25/25 [==============================] - 0s 15ms/step - loss: 0.0294 - accuracy: 0.9749 - val_loss: 0.0000e+00 - val_accuracy: 0.0000e+00\n",
      "Epoch 37/50\n",
      "25/25 [==============================] - 0s 16ms/step - loss: 0.0523 - accuracy: 0.9691 - val_loss: 0.0000e+00 - val_accuracy: 0.0000e+00\n",
      "Epoch 38/50\n",
      "25/25 [==============================] - 0s 15ms/step - loss: 0.0422 - accuracy: 0.9746 - val_loss: 0.0000e+00 - val_accuracy: 0.0000e+00\n",
      "Epoch 39/50\n",
      "25/25 [==============================] - 0s 15ms/step - loss: 0.0331 - accuracy: 0.9804 - val_loss: 0.0000e+00 - val_accuracy: 0.0000e+00\n",
      "Epoch 40/50\n",
      "25/25 [==============================] - 0s 15ms/step - loss: 0.0392 - accuracy: 0.9730 - val_loss: 0.0000e+00 - val_accuracy: 0.0000e+00\n",
      "Epoch 41/50\n",
      "25/25 [==============================] - 0s 16ms/step - loss: 0.0282 - accuracy: 0.9801 - val_loss: 0.0000e+00 - val_accuracy: 0.0000e+00\n",
      "Epoch 42/50\n",
      "25/25 [==============================] - 0s 15ms/step - loss: 0.0270 - accuracy: 0.9797 - val_loss: 0.0000e+00 - val_accuracy: 0.0000e+00\n",
      "Epoch 43/50\n",
      "25/25 [==============================] - 0s 16ms/step - loss: 0.0181 - accuracy: 0.9775 - val_loss: 0.0000e+00 - val_accuracy: 0.0000e+00\n",
      "Epoch 44/50\n",
      "25/25 [==============================] - 0s 15ms/step - loss: 0.0289 - accuracy: 0.9768 - val_loss: 0.0000e+00 - val_accuracy: 0.0000e+00\n",
      "Epoch 45/50\n",
      "25/25 [==============================] - 0s 16ms/step - loss: 0.0262 - accuracy: 0.9804 - val_loss: 0.0000e+00 - val_accuracy: 0.0000e+00\n",
      "Epoch 46/50\n",
      "25/25 [==============================] - 0s 16ms/step - loss: 0.0244 - accuracy: 0.9749 - val_loss: 0.0000e+00 - val_accuracy: 0.0000e+00\n",
      "Epoch 47/50\n",
      "25/25 [==============================] - 0s 16ms/step - loss: 0.0338 - accuracy: 0.9752 - val_loss: 0.0000e+00 - val_accuracy: 0.0000e+00\n",
      "Epoch 48/50\n",
      "25/25 [==============================] - 0s 15ms/step - loss: 0.0289 - accuracy: 0.9794 - val_loss: 0.0000e+00 - val_accuracy: 0.0000e+00\n",
      "Epoch 49/50\n",
      "25/25 [==============================] - 0s 16ms/step - loss: 0.0234 - accuracy: 0.9765 - val_loss: 0.0000e+00 - val_accuracy: 0.0000e+00\n",
      "Epoch 50/50\n",
      "25/25 [==============================] - 0s 17ms/step - loss: 0.0304 - accuracy: 0.9736 - val_loss: 0.0000e+00 - val_accuracy: 0.0000e+00\n"
     ]
    }
   ],
   "source": [
    "history=model.fit(X_train, y_train,\n",
    "           batch_size=batch_size,\n",
    "           epochs=50,\n",
    "           validation_data=[X_test, y_test])"
   ]
  },
  {
   "cell_type": "code",
   "execution_count": 33,
   "id": "a0b2e97d",
   "metadata": {
    "execution": {
     "iopub.execute_input": "2022-05-15T15:50:05.104070Z",
     "iopub.status.busy": "2022-05-15T15:50:05.103793Z",
     "iopub.status.idle": "2022-05-15T15:50:06.535508Z",
     "shell.execute_reply": "2022-05-15T15:50:06.533870Z"
    },
    "papermill": {
     "duration": 1.622576,
     "end_time": "2022-05-15T15:50:06.537982",
     "exception": false,
     "start_time": "2022-05-15T15:50:04.915406",
     "status": "completed"
    },
    "tags": []
   },
   "outputs": [
    {
     "name": "stdout",
     "output_type": "stream",
     "text": [
      "98/98 - 1s - loss: -2.5519e-03 - accuracy: 0.9965\n",
      "Training Accuracy (BiLSTM): 99.6462\n",
      "25/25 - 0s - loss: 4.0408 - accuracy: 0.6247\n",
      "Testing Accuracy (BiLSTM):  62.4679\n"
     ]
    }
   ],
   "source": [
    "loss, accuracy = model.evaluate(X_train, y_train, verbose=2)\n",
    "print(\"Training Accuracy (BiLSTM): {:.4f}\".format(accuracy*100))\n",
    "loss, accuracyBL = model.evaluate(X_test, y_test, verbose=2)\n",
    "print(\"Testing Accuracy (BiLSTM):  {:.4f}\".format(accuracyBL*100))\n"
   ]
  },
  {
   "cell_type": "markdown",
   "id": "62900124",
   "metadata": {
    "papermill": {
     "duration": 0.177135,
     "end_time": "2022-05-15T15:50:06.892077",
     "exception": false,
     "start_time": "2022-05-15T15:50:06.714942",
     "status": "completed"
    },
    "tags": []
   },
   "source": [
    "# Neural Network"
   ]
  },
  {
   "cell_type": "code",
   "execution_count": 34,
   "id": "00a45473",
   "metadata": {
    "execution": {
     "iopub.execute_input": "2022-05-15T15:50:07.250112Z",
     "iopub.status.busy": "2022-05-15T15:50:07.249398Z",
     "iopub.status.idle": "2022-05-15T15:50:07.400948Z",
     "shell.execute_reply": "2022-05-15T15:50:07.400152Z"
    },
    "papermill": {
     "duration": 0.331228,
     "end_time": "2022-05-15T15:50:07.402809",
     "exception": false,
     "start_time": "2022-05-15T15:50:07.071581",
     "status": "completed"
    },
    "tags": []
   },
   "outputs": [
    {
     "data": {
      "image/png": "[encoded data removed]",
      "text/plain": [
       "<Figure size 432x288 with 1 Axes>"
      ]
     },
     "metadata": {
      "needs_background": "light"
     },
     "output_type": "display_data"
    }
   ],
   "source": [
    "x = np.array([\"RNN\",\"LSTM\", \"BiLSTM\"])\n",
    "y = np.array([int(accuracyRNN*100), int(accuracyLSTM*100), int(accuracyBL*100)])\n",
    "plt.bar(x,y,width = 0.5)\n",
    "plt.show()"
   ]
  },
  {
   "cell_type": "markdown",
   "id": "3e53e444",
   "metadata": {
    "papermill": {
     "duration": 0.183239,
     "end_time": "2022-05-15T15:50:07.782280",
     "exception": false,
     "start_time": "2022-05-15T15:50:07.599041",
     "status": "completed"
    },
    "tags": []
   },
   "source": [
    "# All Model"
   ]
  },
  {
   "cell_type": "code",
   "execution_count": 35,
   "id": "c35b1708",
   "metadata": {
    "execution": {
     "iopub.execute_input": "2022-05-15T15:50:08.149125Z",
     "iopub.status.busy": "2022-05-15T15:50:08.148841Z",
     "iopub.status.idle": "2022-05-15T15:50:08.333220Z",
     "shell.execute_reply": "2022-05-15T15:50:08.332551Z"
    },
    "papermill": {
     "duration": 0.368357,
     "end_time": "2022-05-15T15:50:08.335114",
     "exception": false,
     "start_time": "2022-05-15T15:50:07.966757",
     "status": "completed"
    },
    "tags": []
   },
   "outputs": [
    {
     "data": {
      "image/png": "[encoded data removed]",
      "text/plain": [
       "<Figure size 432x288 with 1 Axes>"
      ]
     },
     "metadata": {
      "needs_background": "light"
     },
     "output_type": "display_data"
    }
   ],
   "source": [
    "x = np.array([\"LR(CV)\",\"LR(TFIDF)\", \"NB(CV)\",\"NB(TFIDF)\",\"RNN\",\"LSTM\", \"BiLSTM\"])\n",
    "y = np.array([int(test_acc*100), int(test_acc_tf*100), int(test_acc_nb*100), int(train_acc_nb_tf*100),int(accuracyRNN*100), int(accuracyLSTM*100), int(accuracyBL*100)])\n",
    "plt.bar(x,y,width = 0.5)\n",
    "plt.show()"
   ]
  }
 ],
 "metadata": {
  "kernelspec": {
   "display_name": "Python 3",
   "language": "python",
   "name": "python3"
  },
  "language_info": {
   "codemirror_mode": {
    "name": "ipython",
    "version": 3
   },
   "file_extension": ".py",
   "mimetype": "text/x-python",
   "name": "python",
   "nbconvert_exporter": "python",
   "pygments_lexer": "ipython3",
   "version": "3.7.12"
  },
  "papermill": {
   "default_parameters": {},
   "duration": 290.493253,
   "end_time": "2022-05-15T15:50:11.412488",
   "environment_variables": {},
   "exception": null,
   "input_path": "__notebook__.ipynb",
   "output_path": "__notebook__.ipynb",
   "parameters": {},
   "start_time": "2022-05-15T15:45:20.919235",
   "version": "2.3.4"
  }
 },
 "nbformat": 4,
 "nbformat_minor": 5
}
